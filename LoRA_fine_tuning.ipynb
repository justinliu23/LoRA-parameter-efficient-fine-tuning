{
  "nbformat": 4,
  "nbformat_minor": 0,
  "metadata": {
    "colab": {
      "provenance": [],
      "machine_shape": "hm",
      "gpuType": "A100"
    },
    "kernelspec": {
      "name": "python3",
      "display_name": "Python 3"
    },
    "accelerator": "GPU"
  },
  "cells": [
    {
      "cell_type": "markdown",
      "metadata": {
        "id": "mQGm6JtgehIq"
      },
      "source": [
        "> LoRA Parameter Efficient Fine-Tuning Project for Harvard CS 2420: Computing at Scale (Fall 2024)\n"
      ]
    },
    {
      "cell_type": "markdown",
      "source": [
        "---\n",
        "\n",
        "### **Setup**\n",
        "\n",
        "---"
      ],
      "metadata": {
        "id": "xUy-CE4elDq9"
      }
    },
    {
      "cell_type": "code",
      "metadata": {
        "id": "cRz6CSs4LwBK",
        "colab": {
          "base_uri": "https://localhost:8080/"
        },
        "outputId": "3f4bcf93-d148-47a2-fba5-c8637d87ad67"
      },
      "source": [
        "!nvidia-smi"
      ],
      "execution_count": null,
      "outputs": [
        {
          "output_type": "stream",
          "name": "stdout",
          "text": [
            "Thu Oct 10 01:13:25 2024       \n",
            "+---------------------------------------------------------------------------------------+\n",
            "| NVIDIA-SMI 535.104.05             Driver Version: 535.104.05   CUDA Version: 12.2     |\n",
            "|-----------------------------------------+----------------------+----------------------+\n",
            "| GPU  Name                 Persistence-M | Bus-Id        Disp.A | Volatile Uncorr. ECC |\n",
            "| Fan  Temp   Perf          Pwr:Usage/Cap |         Memory-Usage | GPU-Util  Compute M. |\n",
            "|                                         |                      |               MIG M. |\n",
            "|=========================================+======================+======================|\n",
            "|   0  NVIDIA A100-SXM4-40GB          Off | 00000000:00:04.0 Off |                    0 |\n",
            "| N/A   29C    P0              46W / 400W |   1079MiB / 40960MiB |      0%      Default |\n",
            "|                                         |                      |             Disabled |\n",
            "+-----------------------------------------+----------------------+----------------------+\n",
            "                                                                                         \n",
            "+---------------------------------------------------------------------------------------+\n",
            "| Processes:                                                                            |\n",
            "|  GPU   GI   CI        PID   Type   Process name                            GPU Memory |\n",
            "|        ID   ID                                                             Usage      |\n",
            "|=======================================================================================|\n",
            "+---------------------------------------------------------------------------------------+\n"
          ]
        }
      ]
    },
    {
      "cell_type": "code",
      "metadata": {
        "id": "s9WL6HA_Lpe8"
      },
      "source": [
        "import sys\n",
        "import time\n",
        "import os\n",
        "import math\n",
        "\n",
        "import matplotlib.pyplot as plt\n",
        "import torch\n",
        "import torch.nn as nn\n",
        "import torch.nn.functional as F\n",
        "import torchvision\n",
        "import torchvision.datasets as datasets\n",
        "import torchvision.transforms as transforms\n",
        "\n",
        "from copy import deepcopy\n",
        "\n",
        "from torch.autograd import Variable"
      ],
      "execution_count": null,
      "outputs": []
    },
    {
      "cell_type": "code",
      "source": [
        "# tracks the highest accuracy observed so far\n",
        "best_acc = 0\n",
        "\n",
        "def moving_average(a, n=100):\n",
        "    '''Helper function used for visualization'''\n",
        "    ret = torch.cumsum(torch.Tensor(a), 0)\n",
        "    ret[n:] = ret[n:] - ret[:-n]\n",
        "    return ret[n - 1:] / n\n",
        "\n",
        "def train(net, epoch, loader, criterion, optimizer, loss_tracker = [], acc_tracker = []):\n",
        "    net.train()\n",
        "    train_loss = 0\n",
        "    correct = 0\n",
        "    total = 0\n",
        "    for batch_idx, (inputs, targets) in enumerate(loader):\n",
        "        inputs, targets = inputs.to(device), targets.to(device)\n",
        "        optimizer.zero_grad()\n",
        "        outputs = net(inputs)\n",
        "        loss = criterion(outputs, targets)\n",
        "        loss.backward()\n",
        "        # update optimizer state\n",
        "        optimizer.step()\n",
        "        # compute average loss\n",
        "        train_loss += loss.item()\n",
        "        loss_tracker.append(loss.item())\n",
        "        loss = train_loss / (batch_idx + 1)\n",
        "        # compute accuracy\n",
        "        _, predicted = outputs.max(1)\n",
        "        total += targets.size(0)\n",
        "        correct += predicted.eq(targets).sum().item()\n",
        "        acc = 100. * correct / total\n",
        "        # Print status\n",
        "        sys.stdout.write(f'\\rEpoch {epoch}: Train Loss: {loss:.3f}' +\n",
        "                         f'| Train Acc: {acc:.3f}')\n",
        "        sys.stdout.flush()\n",
        "    acc_tracker.append(acc)\n",
        "    sys.stdout.flush()\n",
        "\n",
        "def test(net, epoch, loader, criterion, loss_tracker = [], acc_tracker = []):\n",
        "    global best_acc\n",
        "    net.eval()\n",
        "    test_loss = 0\n",
        "    correct = 0\n",
        "    total = 0\n",
        "    with torch.no_grad():\n",
        "        for batch_idx, (inputs, targets) in enumerate(loader):\n",
        "            inputs, targets = inputs.to(device), targets.to(device)\n",
        "            outputs = net(inputs)\n",
        "            loss = criterion(outputs, targets)\n",
        "\n",
        "            test_loss += loss.item()\n",
        "            loss_tracker.append(loss.item())\n",
        "            _, predicted = outputs.max(1)\n",
        "            total += targets.size(0)\n",
        "            correct += predicted.eq(targets).sum().item()\n",
        "\n",
        "            loss = test_loss / (batch_idx + 1)\n",
        "            acc = 100.* correct / total\n",
        "    sys.stdout.write(f' | Test Loss: {loss:.3f} | Test Acc: {acc:.3f}\\n')\n",
        "    sys.stdout.flush()\n",
        "\n",
        "    # Save checkpoint\n",
        "    acc = 100.*correct/total\n",
        "    acc_tracker.append(acc)\n",
        "    if acc > best_acc:\n",
        "        state = {\n",
        "            'net': net.state_dict(),\n",
        "            'acc': acc,\n",
        "            'epoch': epoch,\n",
        "        }\n",
        "        if not os.path.isdir('checkpoint'):\n",
        "            os.mkdir('checkpoint')\n",
        "        torch.save(state, './checkpoint/ckpt.pth')\n",
        "        best_acc = acc"
      ],
      "metadata": {
        "id": "BeYR2zLEM1BH"
      },
      "execution_count": null,
      "outputs": []
    },
    {
      "cell_type": "code",
      "metadata": {
        "id": "xOTGlfOG5IAi"
      },
      "source": [
        "def conv_block(in_channels, out_channels, kernel_size=3, stride=1,\n",
        "               padding=1):\n",
        "    '''\n",
        "    A nn.Sequential layer executes its arguments in sequential order. In\n",
        "    this case, it performs Conv2d -> BatchNorm2d -> ReLU. This is a typical\n",
        "    block of layers used in Convolutional Neural Networks (CNNs). The\n",
        "    ConvNet implementation below stacks multiple instances of this three layer\n",
        "    pattern in order to achieve over 90% classification accuracy on CIFAR-10.\n",
        "    '''\n",
        "    return nn.Sequential(\n",
        "        nn.Conv2d(in_channels, out_channels, kernel_size, stride, padding,\n",
        "                  bias=False),\n",
        "        nn.BatchNorm2d(out_channels),\n",
        "        nn.ReLU(inplace=True)\n",
        "        )\n",
        "\n",
        "class ConvNet(nn.Module):\n",
        "    '''\n",
        "    A 9 layer CNN using the conv_block function above. Again, we use a\n",
        "    nn.Sequential layer to build the entire model. The Conv2d layers get\n",
        "    progressively larger (more filters) as the model gets deeper. This\n",
        "    corresponds to spatial resolution getting smaller (via the stride=2 blocks),\n",
        "    going from 32x32 -> 16x16 -> 8x8. The nn.AdaptiveAvgPool2d layer at the end\n",
        "    of the model reduces the spatial resolution from 8x8 to 1x1 using a simple\n",
        "    average across all the pixels in each channel. This is then fed to the\n",
        "    single fully connected (linear) layer called classifier, which is the output\n",
        "    prediction of the model.\n",
        "    '''\n",
        "    def __init__(self):\n",
        "        super(ConvNet, self).__init__()\n",
        "        self.model = nn.Sequential(\n",
        "            conv_block(3, 32),\n",
        "            conv_block(32, 32),\n",
        "            conv_block(32, 64, stride=2),\n",
        "            conv_block(64, 64),\n",
        "            conv_block(64, 64),\n",
        "            conv_block(64, 128, stride=2),\n",
        "            conv_block(128, 128),\n",
        "            conv_block(128, 256),\n",
        "            conv_block(256, 256),\n",
        "            nn.AdaptiveAvgPool2d(1)\n",
        "            )\n",
        "\n",
        "        self.classifier = nn.Linear(256, 10)\n",
        "\n",
        "    def forward(self, x):\n",
        "        '''\n",
        "        The forward function is called automatically by the model when it is\n",
        "        given an input image. It first applies the 8 convolution layers, then\n",
        "        finally the single classifier layer.\n",
        "        '''\n",
        "        h = self.model(x)\n",
        "        B, C, _, _ = h.shape\n",
        "        h = h.view(B, C)\n",
        "        return self.classifier(h)"
      ],
      "execution_count": null,
      "outputs": []
    },
    {
      "cell_type": "markdown",
      "source": [
        "---\n",
        "\n",
        "### **Parameter Efficient Fine-tuning with LoRA**\n",
        "\n",
        "---\n",
        "\n",
        "Here I modified a model to enable parameter efficient fine-tuning (PEFT).\n",
        "We will combine two techniques: freezing portions of a model, and applying low-rank updates.\n",
        "\n",
        "\n",
        "Specifically, I used the library from [LoRA: Low-Rank Adaptation of Large Language Models](https://arxiv.org/abs/2106.09685).\n",
        "We recommend reading Section 4 as it describes the method in detail.\n",
        "LoRA can decrease the computation and memory requirements during training by reducing the number of parameters updated.\n",
        "\n",
        "Instead of simply applying a full update $\\Delta W$ to a frozen weight matrix $W_0 \\in R^{d \\times k}$, we can represent that update using low-rank decomposition. Namely, $\\Delta W = BA$, where $B \\in R^{d \\times r}$ , $ A \\in R^{r \\times k}$, and the rank $r << min(d, k)$, resulting in:\n",
        "\n",
        "$$\n",
        "W_0 + \\Delta W = W_0 + BA\n",
        "$$\n",
        "\n",
        "As we are using *low-rank approximation*, it would be more precise to state that $\\Delta W \\approx BA$, resulting in:\n",
        "\n",
        "$$\n",
        "W_0 + \\Delta W \\approx W_0 + BA\n",
        "$$\n",
        "\n",
        "\n",
        "Here I created a partially frozen network that applies low-rank updates to a classifier when training on a new [dataset](https://datashare.ed.ac.uk/handle/10283/3192).\n",
        "\n",
        "In summary, I:\n",
        "1. Loadedpre-trained ResNet-18\n",
        "2. Modified the network to have frozen early layers\n",
        "3. Further modified the network to have a LoRA classifier layer\n",
        "4. Compared the fine-tuning performance of: unfrozen, partially frozen, and partially frozen + LoRA models"
      ],
      "metadata": {
        "id": "hxR1xQbEC0rX"
      }
    },
    {
      "cell_type": "code",
      "source": [
        "!mkdir -p data/cinic-10\n",
        "!curl -L https://datashare.is.ed.ac.uk/bitstream/handle/10283/3192/CINIC-10.tar.gz | tar xz -C data/cinic-10"
      ],
      "metadata": {
        "id": "lccOFLUl_qz6",
        "colab": {
          "base_uri": "https://localhost:8080/"
        },
        "outputId": "5b7910d6-dcb9-41a4-afb2-0a0472122108"
      },
      "execution_count": null,
      "outputs": [
        {
          "output_type": "stream",
          "name": "stdout",
          "text": [
            "  % Total    % Received % Xferd  Average Speed   Time    Time     Time  Current\n",
            "                                 Dload  Upload   Total   Spent    Left  Speed\n",
            "100   161  100   161    0     0    199      0 --:--:-- --:--:-- --:--:--   199\n",
            "100  655M  100  655M    0     0  4935k      0  0:02:16  0:02:16 --:--:-- 2047k\n"
          ]
        }
      ]
    },
    {
      "cell_type": "code",
      "source": [
        "cinic_traindir = os.path.join(\"data\", \"cinic-10\", \"train\")\n",
        "cinic_testdir = os.path.join(\"data\", \"cinic-10\", \"test\")\n",
        "\n",
        "cinic_mean = [0.47889522, 0.47227842, 0.43047404]\n",
        "cinic_std = [0.24205776, 0.23828046, 0.25874835]\n",
        "cinic_normalize = transforms.Normalize(mean=cinic_mean, std=cinic_std)\n",
        "\n",
        "transform = transforms.Compose([\n",
        "    transforms.ToTensor(),\n",
        "    transforms.Normalize(mean=cinic_mean, std=cinic_std)\n",
        "])\n",
        "\n",
        "train_transform = transforms.Compose([\n",
        "    transforms.RandomCrop(32, padding=4),\n",
        "    transforms.RandomHorizontalFlip(),\n",
        "    transforms.ToTensor(),\n",
        "    transforms.Normalize(mean=cinic_mean, std=cinic_std)\n",
        "])\n",
        "\n",
        "c_trainset = datasets.ImageFolder(root=cinic_traindir, transform=train_transform)\n",
        "c_trainloader = torch.utils.data.DataLoader(c_trainset,\n",
        "                                          batch_size=128,\n",
        "                                          shuffle=True,\n",
        "                                          num_workers=2)\n",
        "\n",
        "c_testset = datasets.ImageFolder(root=cinic_testdir, transform=transform)\n",
        "c_testloader = torch.utils.data.DataLoader(c_testset,\n",
        "                                         batch_size=100,\n",
        "                                         shuffle=True,\n",
        "                                         num_workers=2)\n",
        "\n",
        "classes = ('airplane', 'automobile', 'bird', 'cat',\n",
        "           'deer', 'dog', 'frog', 'horse', 'ship', 'truck')"
      ],
      "metadata": {
        "id": "oi0csjogKEa1"
      },
      "execution_count": null,
      "outputs": []
    },
    {
      "cell_type": "code",
      "source": [
        "!pip install loralib\n",
        "import loralib as lora\n",
        "\n",
        "device = 'cuda'\n",
        "default_criterion = nn.CrossEntropyLoss\n",
        "default_epochs = 10\n",
        "default_lr = 0.01"
      ],
      "metadata": {
        "id": "BZqELvqMMeAe",
        "colab": {
          "base_uri": "https://localhost:8080/"
        },
        "outputId": "c30496b3-b481-409a-8f43-217612a2a0d9"
      },
      "execution_count": null,
      "outputs": [
        {
          "output_type": "stream",
          "name": "stdout",
          "text": [
            "Collecting loralib\n",
            "  Downloading loralib-0.1.2-py3-none-any.whl.metadata (15 kB)\n",
            "Downloading loralib-0.1.2-py3-none-any.whl (10 kB)\n",
            "Installing collected packages: loralib\n",
            "Successfully installed loralib-0.1.2\n"
          ]
        }
      ]
    },
    {
      "cell_type": "code",
      "source": [
        "# https://pytorch.org/vision/stable/models.html\n",
        "# Create a Resnet-18 network with weights that were pretrained on IMAGENET1K_V.\n",
        "from torchvision.models import resnet18 # [ must import resnet18]\n",
        "pt_net = resnet18(weights='IMAGENET1K_V1')\n",
        "\n",
        "pt_net_criterion = default_criterion()\n",
        "pt_net_optimizer = torch.optim.SGD(pt_net.parameters(), lr=0.01, momentum=0.9, weight_decay=5e-4)\n",
        "\n",
        "# Get the baseline accuracy\n",
        "pt_net.to(device)\n",
        "test(net=pt_net, epoch=0, loader=c_testloader, criterion=pt_net_criterion, loss_tracker=[], acc_tracker=[])"
      ],
      "metadata": {
        "id": "s7396BlrFoZZ",
        "colab": {
          "base_uri": "https://localhost:8080/"
        },
        "outputId": "00ddd39e-8272-4938-c42d-f64e00361aff"
      },
      "execution_count": null,
      "outputs": [
        {
          "output_type": "stream",
          "name": "stdout",
          "text": [
            " | Test Loss: 10.426 | Test Acc: 0.017\n"
          ]
        }
      ]
    },
    {
      "cell_type": "code",
      "source": [
        "net_freeze = deepcopy(pt_net)\n",
        "\n",
        "for name, param in net_freeze.named_parameters():\n",
        "    if name not in ['layer4.0.conv1.weight','layer4.0.conv2.weight','layer4.1.conv1.weight','layer4.1.conv2.weight','fc.weight']:\n",
        "        param.requires_grad = False\n",
        "\n",
        "net_freeze_criterion = default_criterion()\n",
        "net_freeze_optimizer = torch.optim.SGD(net_freeze.parameters(), lr=0.01, momentum=0.9, weight_decay=5e-4)\n",
        "\n",
        "# Get the baseline accuracy\n",
        "net_freeze.to(device)\n",
        "test(net=net_freeze, epoch=0, loader=c_testloader, criterion=net_freeze_criterion, loss_tracker=[], acc_tracker=[])"
      ],
      "metadata": {
        "id": "vNked_TT8Muu",
        "colab": {
          "base_uri": "https://localhost:8080/"
        },
        "outputId": "5e00fbd9-b38a-4b5c-f13a-30d0574549d3"
      },
      "execution_count": null,
      "outputs": [
        {
          "output_type": "stream",
          "name": "stdout",
          "text": [
            " | Test Loss: 10.426 | Test Acc: 0.017\n"
          ]
        }
      ]
    },
    {
      "cell_type": "code",
      "source": [
        "# Replace the classifer layer with a LoRA linear layer\n",
        "\n",
        "net_freeze_lora = deepcopy(net_freeze)\n",
        "\n",
        "# Modify network to have a LoRA linear classifer\n",
        "saved_fc_weights = net_freeze_lora.fc.weight.clone()\n",
        "for name, param in net_freeze.named_parameters():\n",
        "  if name == 'fc.weight':\n",
        "    print(param.shape)\n",
        "#after replacing with LoRA layer, set and freeze weights based on original weights\n",
        "net_freeze_lora.fc = lora.Linear(in_features=512, out_features=1000,r=10)\n",
        "net_freeze_lora.fc.weight = nn.Parameter(saved_fc_weights)\n",
        "net_freeze_lora.fc.weight.requires_grad = False\n",
        "\n",
        "net_freeze_lora_criterion = default_criterion()\n",
        "net_freeze_lora_optimizer = torch.optim.SGD(net_freeze_lora.parameters(), lr=0.01, momentum=0.9, weight_decay=5e-4)\n",
        "\n",
        "net_freeze_lora.to(device)\n",
        "test(net=net_freeze_lora, epoch=0, loader=c_testloader, criterion=net_freeze_lora_criterion, loss_tracker=[], acc_tracker=[])"
      ],
      "metadata": {
        "id": "wPb9GVn0cw7R",
        "colab": {
          "base_uri": "https://localhost:8080/"
        },
        "outputId": "2f3b3592-70a6-4e58-cb0c-6b4aa87f64a2"
      },
      "execution_count": null,
      "outputs": [
        {
          "output_type": "stream",
          "name": "stdout",
          "text": [
            "torch.Size([1000, 512])\n",
            " | Test Loss: 10.429 | Test Acc: 0.017\n"
          ]
        }
      ]
    },
    {
      "cell_type": "code",
      "source": [
        "# Fine-tune and test vanilla pre-trained network\n",
        "pt_net.to(device)\n",
        "vanilla_train_loss_tracker, vanilla_test_acc_tracker = [], []\n",
        "for epoch in range(default_epochs):\n",
        "    train(net=pt_net, epoch=epoch, loader=c_trainloader,\n",
        "          criterion=pt_net_criterion, optimizer=pt_net_optimizer,\n",
        "          loss_tracker=vanilla_train_loss_tracker, acc_tracker=[])\n",
        "    test(net=pt_net, epoch=epoch, loader=c_testloader,\n",
        "         criterion=pt_net_criterion,\n",
        "         loss_tracker=[], acc_tracker=vanilla_test_acc_tracker)\n"
      ],
      "metadata": {
        "id": "NIyjez_s6qDI",
        "colab": {
          "base_uri": "https://localhost:8080/"
        },
        "outputId": "317bf045-ee9b-49f5-d830-d0fa4bb3be16"
      },
      "execution_count": null,
      "outputs": [
        {
          "output_type": "stream",
          "name": "stdout",
          "text": [
            "Epoch 0: Train Loss: 1.533| Train Acc: 45.542 | Test Loss: 1.237 | Test Acc: 55.734\n",
            "Epoch 1: Train Loss: 1.139| Train Acc: 59.586 | Test Loss: 1.118 | Test Acc: 60.791\n",
            "Epoch 2: Train Loss: 1.042| Train Acc: 63.003 | Test Loss: 1.013 | Test Acc: 64.659\n",
            "Epoch 3: Train Loss: 0.980| Train Acc: 65.283 | Test Loss: 0.960 | Test Acc: 66.167\n",
            "Epoch 4: Train Loss: 0.936| Train Acc: 66.873 | Test Loss: 0.920 | Test Acc: 67.458\n",
            "Epoch 5: Train Loss: 0.904| Train Acc: 68.027 | Test Loss: 0.963 | Test Acc: 65.940\n",
            "Epoch 6: Train Loss: 0.886| Train Acc: 68.550 | Test Loss: 0.915 | Test Acc: 67.960\n",
            "Epoch 7: Train Loss: 0.858| Train Acc: 69.458 | Test Loss: 0.904 | Test Acc: 68.180\n",
            "Epoch 8: Train Loss: 0.846| Train Acc: 69.949 | Test Loss: 0.922 | Test Acc: 67.638\n",
            "Epoch 9: Train Loss: 0.825| Train Acc: 70.636 | Test Loss: 0.913 | Test Acc: 68.188\n"
          ]
        }
      ]
    },
    {
      "cell_type": "code",
      "source": [
        "# Fine-tune and test partially frozen network\n",
        "net_freeze.to(device)\n",
        "frozen_train_loss_tracker, frozen_test_acc_tracker = [], []\n",
        "for epoch in range(default_epochs):\n",
        "    train(net=net_freeze, epoch=epoch, loader=c_trainloader,\n",
        "          criterion=net_freeze_criterion, optimizer=net_freeze_optimizer,\n",
        "          loss_tracker=frozen_train_loss_tracker, acc_tracker=[])\n",
        "    test(net=net_freeze, epoch=epoch,\n",
        "         loader=c_testloader, criterion=net_freeze_criterion,\n",
        "         loss_tracker=[], acc_tracker=frozen_test_acc_tracker)\n"
      ],
      "metadata": {
        "id": "rwPcgIbUUY77",
        "colab": {
          "base_uri": "https://localhost:8080/"
        },
        "outputId": "692f4f47-bd3c-4d6f-f351-dfe9126964e4"
      },
      "execution_count": null,
      "outputs": [
        {
          "output_type": "stream",
          "name": "stdout",
          "text": [
            "Epoch 0: Train Loss: 1.675| Train Acc: 41.963 | Test Loss: 2.047 | Test Acc: 44.626\n",
            "Epoch 1: Train Loss: 1.405| Train Acc: 49.753 | Test Loss: 1.453 | Test Acc: 51.449\n",
            "Epoch 2: Train Loss: 1.346| Train Acc: 51.876 | Test Loss: 1.725 | Test Acc: 50.763\n",
            "Epoch 3: Train Loss: 1.303| Train Acc: 53.124 | Test Loss: 1.315 | Test Acc: 54.207\n",
            "Epoch 4: Train Loss: 1.272| Train Acc: 54.346 | Test Loss: 1.458 | Test Acc: 53.226\n",
            "Epoch 5: Train Loss: 1.249| Train Acc: 55.109 | Test Loss: 1.272 | Test Acc: 54.543\n",
            "Epoch 6: Train Loss: 1.241| Train Acc: 55.542 | Test Loss: 1.426 | Test Acc: 54.481\n",
            "Epoch 7: Train Loss: 1.217| Train Acc: 56.442 | Test Loss: 1.407 | Test Acc: 54.688\n",
            "Epoch 8: Train Loss: 1.209| Train Acc: 56.516 | Test Loss: 1.456 | Test Acc: 53.576\n",
            "Epoch 9: Train Loss: 1.194| Train Acc: 57.023 | Test Loss: 1.336 | Test Acc: 55.333\n"
          ]
        }
      ]
    },
    {
      "cell_type": "code",
      "source": [
        "# Fine-tune and test partially frozen network with LoRA classifier\n",
        "net_freeze_lora.to(device)\n",
        "lora_train_loss_tracker, lora_test_acc_tracker = [], []\n",
        "for epoch in range(default_epochs):\n",
        "    train(net=net_freeze_lora, epoch=epoch, loader=c_trainloader,\n",
        "          criterion=net_freeze_lora_criterion, optimizer=net_freeze_lora_optimizer,\n",
        "          loss_tracker=lora_train_loss_tracker, acc_tracker=[])\n",
        "    test(net=net_freeze_lora, epoch=epoch,\n",
        "         loader=c_testloader, criterion=net_freeze_lora_criterion,\n",
        "         loss_tracker=[], acc_tracker=lora_test_acc_tracker)"
      ],
      "metadata": {
        "id": "87oowJVjdBjD",
        "colab": {
          "base_uri": "https://localhost:8080/"
        },
        "outputId": "98965856-ca4e-49a3-db7a-5b5b71a0dae1"
      },
      "execution_count": null,
      "outputs": [
        {
          "output_type": "stream",
          "name": "stdout",
          "text": [
            "Epoch 0: Train Loss: 1.990| Train Acc: 43.394 | Test Loss: 1.468 | Test Acc: 49.086\n",
            "Epoch 1: Train Loss: 1.415| Train Acc: 50.316 | Test Loss: 1.438 | Test Acc: 51.520\n",
            "Epoch 2: Train Loss: 1.335| Train Acc: 52.543 | Test Loss: 1.385 | Test Acc: 53.177\n",
            "Epoch 3: Train Loss: 1.287| Train Acc: 54.014 | Test Loss: 1.294 | Test Acc: 54.029\n",
            "Epoch 4: Train Loss: 1.258| Train Acc: 54.922 | Test Loss: 1.380 | Test Acc: 54.490\n",
            "Epoch 5: Train Loss: 1.248| Train Acc: 55.572 | Test Loss: 1.340 | Test Acc: 53.924\n",
            "Epoch 6: Train Loss: 1.238| Train Acc: 55.750 | Test Loss: 1.278 | Test Acc: 55.721\n",
            "Epoch 7: Train Loss: 1.227| Train Acc: 56.136 | Test Loss: 1.251 | Test Acc: 55.778\n",
            "Epoch 8: Train Loss: 1.201| Train Acc: 56.788 | Test Loss: 1.246 | Test Acc: 55.869\n",
            "Epoch 9: Train Loss: 1.188| Train Acc: 57.586 | Test Loss: 1.238 | Test Acc: 56.648\n"
          ]
        }
      ]
    },
    {
      "cell_type": "code",
      "source": [
        "plt.figure(figsize=(10, 4))\n",
        "# plot training loss\n",
        "plt.subplot(1, 2, 1)\n",
        "plt.plot(moving_average(vanilla_train_loss_tracker,n=20), label='pt_net')\n",
        "plt.plot(moving_average(frozen_train_loss_tracker,n=20), label='net_freeze')\n",
        "plt.plot(moving_average(lora_train_loss_tracker,n=20), label='net_freeze_lora')\n",
        "plt.legend()\n",
        "plt.title('Training Loss vs Iteration')\n",
        "plt.xlabel('Iterations (training batches within epochs)')\n",
        "plt.ylabel('Loss')\n",
        "\n",
        "# plot test acc\n",
        "plt.subplot(1, 2, 2)\n",
        "plt.plot(range(default_epochs), vanilla_test_acc_tracker, label = 'pt_net', marker='o')\n",
        "plt.plot(range(default_epochs), frozen_test_acc_tracker, label = 'net_freeze', marker='o')\n",
        "plt.plot(range(default_epochs), lora_test_acc_tracker, label = 'net_freeze_lora', marker='o')\n",
        "plt.legend()\n",
        "plt.title('Test Accuracy vs Epoch')\n",
        "plt.xlabel('Epoch')\n",
        "plt.ylabel('Accuracy (%)')\n",
        "plt.tight_layout()\n",
        "plt.show()"
      ],
      "metadata": {
        "id": "S9cN0kGXiMWq",
        "colab": {
          "base_uri": "https://localhost:8080/",
          "height": 407
        },
        "outputId": "f032f0c5-0e78-4a92-e52a-ef450ff3f2a7"
      },
      "execution_count": null,
      "outputs": [
        {
          "output_type": "display_data",
          "data": {
            "text/plain": [
              "<Figure size 1000x400 with 2 Axes>"
            ],
            "image/png": "[encoded data removed]"
          },
          "metadata": {}
        }
      ]
    }
  ]
}